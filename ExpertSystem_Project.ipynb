{
  "nbformat": 4,
  "nbformat_minor": 0,
  "metadata": {
    "colab": {
      "name": "ExpertSystem_Project.ipynb",
      "provenance": [],
      "collapsed_sections": [],
      "include_colab_link": true
    },
    "kernelspec": {
      "name": "python3",
      "display_name": "Python 3"
    },
    "language_info": {
      "name": "python"
    }
  },
  "cells": [
    {
      "cell_type": "markdown",
      "metadata": {
        "id": "view-in-github",
        "colab_type": "text"
      },
      "source": [
        "<a href=\"https://colab.research.google.com/github/NadaWaelMohamed/Expert-System-Project/blob/main/ExpertSystem_Project.ipynb\" target=\"_parent\"><img src=\"https://colab.research.google.com/assets/colab-badge.svg\" alt=\"Open In Colab\"/></a>"
      ]
    },
    {
      "cell_type": "code",
      "source": [
        "pip install experta"
      ],
      "metadata": {
        "id": "jEfHs9NGaGZi",
        "outputId": "0f413a75-c1d5-4f94-8ce9-a15bbca8a640",
        "colab": {
          "base_uri": "https://localhost:8080/"
        }
      },
      "execution_count": null,
      "outputs": [
        {
          "output_type": "stream",
          "name": "stdout",
          "text": [
            "Looking in indexes: https://pypi.org/simple, https://us-python.pkg.dev/colab-wheels/public/simple/\n",
            "Collecting experta\n",
            "  Downloading experta-1.9.4-py3-none-any.whl (35 kB)\n",
            "Collecting schema==0.6.7\n",
            "  Downloading schema-0.6.7-py2.py3-none-any.whl (14 kB)\n",
            "Collecting frozendict==1.2\n",
            "  Downloading frozendict-1.2.tar.gz (2.6 kB)\n",
            "Building wheels for collected packages: frozendict\n",
            "  Building wheel for frozendict (setup.py) ... \u001b[?25l\u001b[?25hdone\n",
            "  Created wheel for frozendict: filename=frozendict-1.2-py3-none-any.whl size=3166 sha256=bb3f5083763b5931a63fa0c82a57b4ccb4cc7fe519ae6ab1a45f314d7344b9ac\n",
            "  Stored in directory: /root/.cache/pip/wheels/68/17/69/ac196dd181e620bba5fae5488e4fd6366a7316dce13cf88776\n",
            "Successfully built frozendict\n",
            "Installing collected packages: schema, frozendict, experta\n",
            "Successfully installed experta-1.9.4 frozendict-1.2 schema-0.6.7\n"
          ]
        }
      ]
    },
    {
      "cell_type": "code",
      "execution_count": null,
      "metadata": {
        "id": "Xv8862Lhwkjg"
      },
      "outputs": [],
      "source": [
        "from experta import *\n",
        "\n",
        "\n",
        "class User_Response(Fact):\n",
        "    pass\n",
        "\n",
        "\n",
        "Questions = ['Does anyone in your family suffer from diabetes?', 'Do you have Blurry Vision?',\n",
        "            'Do you suffer From Excessive Urination?',\n",
        "            'Do you suffer from Bellyache?', 'Do you feel Over Thirsty alot?',\n",
        "            'Do you feel Hungry alot?', 'Do you suffer from Tiredness?',\n",
        "            'Do you suffer from Bad Breathe?']\n",
        "\n",
        "\n",
        "class KE(KnowledgeEngine):\n",
        "    @Rule(User_Response('TTTTTTTT'))\n",
        "    def Case1(self):\n",
        "        print('The probability that you have diabetes is high , you must see a doctor')\n",
        "        \n",
        "\n",
        "    @Rule(User_Response('FFFFFFFF'))\n",
        "    def Case2(self):\n",
        "        print('You do not have diabetes')\n",
        "        \n",
        "\n",
        "    @Rule(User_Response('FTTTFTTF'))\n",
        "    def Case3(self):\n",
        "        print('The probability that you have diabetes is medium , you should see a doctor')\n",
        "        \n",
        "\n",
        "    @Rule(User_Response('FFTFFFFF'))\n",
        "    def Case4(self):\n",
        "        print('The probability that you have diabetes is low')\n",
        "        \n",
        "\n",
        "    @Rule(User_Response('FTFTTFTT'))\n",
        "    def Case5(self):\n",
        "        print('The probability that you have diabetes is medium , you should see a doctor')\n",
        "        \n",
        "\n",
        "    @Rule(User_Response('TTTFFFFF'))\n",
        "    def Case6(self):\n",
        "        print('The probability that you have diabetes is low')\n",
        "        \n",
        "\n",
        "    @Rule(User_Response('FFFFFTTT'))\n",
        "    def Case7(self):\n",
        "        print('The probability that you have diabetes is low')\n",
        "        \n",
        "\n",
        "    @Rule(User_Response('TTTTTFFF'))\n",
        "    def Case8(self):\n",
        "        print('The probability that you have diabetes is medium , you should see a doctor')\n",
        "        \n",
        "\n",
        "    @Rule(User_Response('FFTTTTTF'))\n",
        "    def Case9(self):\n",
        "        print('The probability that you have diabetes is medium , you should see a doctor')\n",
        "        \n",
        "\n",
        "    @Rule(User_Response('FFTTFFFF'))\n",
        "    def Case10(self):\n",
        "        print('The probability that you have diabetes is low')\n",
        "        \n",
        "\n",
        "  \n",
        "\n",
        "\n"
      ]
    },
    {
      "cell_type": "code",
      "source": [
        "engine = KE()\n",
        "Answer = \"\"\n",
        "for i in Questions:\n",
        "    response = input(i)\n",
        "\n",
        "    if response == 't'or response=='T':\n",
        "       Answer=Answer+'T'\n",
        "    elif response =='f' or response=='F':\n",
        "       Answer=Answer+'F'\n",
        "    else:      \n",
        "      print(\"you answered something wrong please make sure to response with T/F\")\n",
        "      break\n",
        "   \n",
        "engine.reset()\n",
        "engine.declare(User_Response(Answer))\n",
        "engine.run()"
      ],
      "metadata": {
        "colab": {
          "base_uri": "https://localhost:8080/"
        },
        "id": "ubSs2BE-TMuH",
        "outputId": "58f216d8-ea60-40f8-8b50-3a0b003d9107"
      },
      "execution_count": null,
      "outputs": [
        {
          "output_type": "stream",
          "name": "stdout",
          "text": [
            "Does anyone in your family suffer from diabetes?h\n",
            "you answered something wrong please make sure to response with T/F\n"
          ]
        }
      ]
    }
  ]
}